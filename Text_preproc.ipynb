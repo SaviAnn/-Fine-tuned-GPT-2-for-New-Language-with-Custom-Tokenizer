{
  "nbformat": 4,
  "nbformat_minor": 0,
  "metadata": {
    "colab": {
      "provenance": []
    },
    "kernelspec": {
      "name": "python3",
      "display_name": "Python 3"
    },
    "language_info": {
      "name": "python"
    }
  },
  "cells": [
    {
      "cell_type": "code",
      "execution_count": null,
      "metadata": {
        "id": "EiZr30OSDZhn"
      },
      "outputs": [],
      "source": [
        "import os\n",
        "import re\n",
        "import random"
      ]
    },
    {
      "cell_type": "code",
      "source": [
        "from google.colab import drive\n",
        "drive.mount('/content/drive')"
      ],
      "metadata": {
        "id": "hkna88ib2pMd"
      },
      "execution_count": null,
      "outputs": []
    },
    {
      "cell_type": "markdown",
      "source": [
        "1. Merge a few txt files into one"
      ],
      "metadata": {
        "id": "uf2zSTnSO0Rp"
      }
    },
    {
      "cell_type": "code",
      "source": [
        "\n",
        "# Path\n",
        "directory_path = '/content/drive/MyDrive/Study/texts'\n",
        "\n",
        "# My list of files\n",
        "file_list = ['articles.txt', 'books-A.txt', 'train_file.txt', 'jokes.txt', 'fanfiction.txt', 'books-B.txt','valid_file.txt']  # добавьте свои файлы\n",
        "\n",
        "# Итоговый файл\n",
        "output_file = '/content/drive/MyDrive/Study/merged_file.txt'\n",
        "\n",
        "\n",
        "with open(output_file, 'w', encoding='utf-8') as outfile:\n",
        "    for filename in file_list:\n",
        "        file_path = os.path.join(directory_path, filename)\n",
        "\n",
        "        # Open each file\n",
        "        with open(file_path, 'r', encoding='utf-8') as infile:\n",
        "            content = infile.read()\n",
        "            outfile.write(content)\n",
        "            outfile.write(\"\\n\")  # Extra riw between different files\n",
        "\n",
        "print(f\"All files merged in {output_file}\")"
      ],
      "metadata": {
        "id": "F3f5qGweOs_M"
      },
      "execution_count": null,
      "outputs": []
    },
    {
      "cell_type": "markdown",
      "source": [
        "2. Cleaning"
      ],
      "metadata": {
        "id": "MjKPULxtO2ej"
      }
    },
    {
      "cell_type": "code",
      "source": [
        "\n",
        "# Reading the file\n",
        "with open('/content/drive/MyDrive/Study/merged_file.txt', 'r', encoding='utf-8') as file:\n",
        "    content = file.read()\n",
        "\n",
        "# Delete text between  == and == (it was necessary in my particular case)\n",
        "content = re.sub(r'==.*?==', '', content, flags=re.DOTALL)\n",
        "\n",
        "#Delete more extra symbols (this part depent on your case)\n",
        "\n",
        "content = re.sub(r'(^[\\d\\s.,!?;:()\\[\\]{}\\'\"-]*$|[^\\w\\s.,!?;:()\\[\\]{}\\'\"-]|\\(\\)|\\s;\\s)', '', content, flags=re.MULTILINE)\n",
        "# # Delete extra space\n",
        "# content = re.sub(r'\\s+', ' ', content).strip()\n",
        "\n",
        "# Save as a new file\n",
        "with open('/content/drive/MyDrive/Study/clean_merged_file.txt', 'w', encoding='utf-8') as file:\n",
        "    file.write(content)\n",
        "\n",
        "print(\"Done!\")\n"
      ],
      "metadata": {
        "id": "vYmML7ESDf6U"
      },
      "execution_count": null,
      "outputs": []
    },
    {
      "cell_type": "code",
      "source": [
        "# Check and print 10 random rows\n",
        "\n",
        "file_path = '/content/drive/MyDrive/Study/clean_merged_file.txt'\n",
        "\n",
        "# Read all lines of the file into a list\n",
        "with open(file_path, 'r', encoding='utf-8') as file:\n",
        "    lines = file.readlines()\n",
        "\n",
        "# Random row to start\n",
        "start_index = random.randint(0, len(lines) - 10)\n",
        "\n",
        "# Print 10 rows\n",
        "for i in range(start_index, start_index + 10):\n",
        "    print(lines[i].strip())\n"
      ],
      "metadata": {
        "id": "Ru8OZ57HDkIw"
      },
      "execution_count": null,
      "outputs": []
    },
    {
      "cell_type": "markdown",
      "source": [
        "3. Train and valid"
      ],
      "metadata": {
        "id": "yyBBdiOB30FO"
      }
    },
    {
      "cell_type": "code",
      "source": [
        "\n",
        "input_file_path = '/content/drive/MyDrive/Study/clean_merged_file.txt'\n",
        "\n",
        "# Path to new files\n",
        "train_file_path = '/content/drive/MyDrive/Study/train_ext_file.txt'\n",
        "valid_file_path = '/content/drive/MyDrive/Study/valid_ext_file.txt'\n",
        "\n",
        "# Reading the text file\n",
        "with open(input_file_path, 'r', encoding='utf-8') as file:\n",
        "    text = file.read()\n",
        "\n",
        "# Split (90% for train and 10% for validation)\n",
        "split_point = int(len(text) * 0.9)\n",
        "train_text = text[:split_point]\n",
        "valid_text = text[split_point:]\n",
        "\n",
        "# Save text to new files\n",
        "with open(train_file_path, 'w', encoding='utf-8') as train_file:\n",
        "    train_file.write(train_text)\n",
        "\n",
        "with open(valid_file_path, 'w', encoding='utf-8') as valid_file:\n",
        "    valid_file.write(valid_text)\n",
        "\n",
        "print(f\"Тrain and valid files: {train_file_path}, {valid_file_path}\")\n",
        "\n",
        "\n",
        "# Size of the file in rows\n",
        "print(int(len(text)))"
      ],
      "metadata": {
        "id": "OekRMMuEDoJm"
      },
      "execution_count": null,
      "outputs": []
    },
    {
      "cell_type": "code",
      "source": [
        "# Optional - dict of all symbols in the text file\n",
        "file_path = '/content/drive/MyDrive/Study/train_ext_file.txt'\n",
        "with open(file_path, 'r', encoding='utf-8') as file:\n",
        "    text = file.read()\n",
        "\n",
        "\n",
        "unique_chars = set(text)\n",
        "char_dict = {char: ord(char) for char in unique_chars}\n",
        "\n",
        "print(\"Dictionary of all symbols:\")\n",
        "for char, code in char_dict.items():\n",
        "    print(f\"'{char}': {code}\")"
      ],
      "metadata": {
        "id": "9-DFFAj8DowH"
      },
      "execution_count": null,
      "outputs": []
    }
  ]
}